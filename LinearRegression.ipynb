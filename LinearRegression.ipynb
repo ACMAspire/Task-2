{
 "cells": [
  {
   "cell_type": "code",
   "execution_count": 4,
   "id": "4483580e-a1ff-401e-9785-1702ec09ac68",
   "metadata": {
    "tags": []
   },
   "outputs": [],
   "source": [
    "import pandas as pd\n",
    "\n",
    "file_path = r'C:\\Users\\RAGHAV\\Desktop\\transform_3.csv'\n",
    "df = pd.read_csv(file_path)\n",
    "\n",
    "target_column = df.pop(df.columns[20])\n",
    "\n",
    "df.insert(len(df.columns), target_column.name, target_column)\n",
    "\n",
    "output_file_path = r'C:\\Users\\RAGHAV\\Desktop\\transform_4.csv'\n",
    "df.to_csv(output_file_path, index=False)\n"
   ]
  },
  {
   "cell_type": "code",
   "execution_count": 5,
   "id": "47722ad5-5076-4dc1-874a-b802b5e8c7eb",
   "metadata": {
    "tags": []
   },
   "outputs": [
    {
     "name": "stdout",
     "output_type": "stream",
     "text": [
      "        sex  age  height  weight  waistline  sight_left  sight_right  SBP  \\\n",
      "0         0   35     170      75       90.0         1.0          1.0  120   \n",
      "1         0   30     180      80       89.0         0.9          1.2  130   \n",
      "2         0   40     165      75       91.0         1.2          1.5  120   \n",
      "3         0   50     175      80       91.0         1.5          1.2  145   \n",
      "4         0   50     165      60       80.0         1.0          1.2  138   \n",
      "...     ...  ...     ...     ...        ...         ...          ...  ...   \n",
      "724292    0   45     175      80       92.1         1.5          1.5  114   \n",
      "724293    0   35     170      75       86.0         1.0          1.5  119   \n",
      "724294    1   40     155      50       68.0         1.0          0.7  110   \n",
      "724295    0   25     175      60       72.0         1.5          1.0  119   \n",
      "724296    0   50     160      70       90.5         1.0          1.5  133   \n",
      "\n",
      "        DBP  BLDS  ...  triglyceride  hemoglobin  serum_creatinine  SGOT_AST  \\\n",
      "0        80    99  ...            92        17.1               1.0        21   \n",
      "1        82   106  ...           121        15.8               0.9        20   \n",
      "2        70    98  ...           104        15.8               0.9        47   \n",
      "3        87    95  ...           106        17.6               1.1        29   \n",
      "4        82   101  ...           104        13.8               0.8        19   \n",
      "...     ...   ...  ...           ...         ...               ...       ...   \n",
      "724292   80    88  ...           132        15.0               1.0        26   \n",
      "724293   83    83  ...            45        15.8               1.1        14   \n",
      "724294   70    90  ...           157        14.3               0.8        30   \n",
      "724295   74    69  ...            53        14.5               0.8        21   \n",
      "724296   79    99  ...           163        15.8               0.9        24   \n",
      "\n",
      "        SGOT_ALT  gamma_GTP  SMK_stat_type_cd  ast/alt_ratio  (ast/alt>1.1)  \\\n",
      "0             35         40                 1       0.600000              0   \n",
      "1             36         27                 3       0.555556              0   \n",
      "2             32         68                 1       1.468750              1   \n",
      "3             34         18                 1       0.852941              0   \n",
      "4             12         25                 1       1.583333              1   \n",
      "...          ...        ...               ...            ...            ...   \n",
      "724292        36         27                 1       0.722222              0   \n",
      "724293        17         15                 1       0.823529              0   \n",
      "724294        27         17                 3       1.111111              1   \n",
      "724295        14         17                 1       1.500000              1   \n",
      "724296        43         36                 3       0.558140              0   \n",
      "\n",
      "        DRK_YN  \n",
      "0            1  \n",
      "1            0  \n",
      "2            0  \n",
      "3            0  \n",
      "4            0  \n",
      "...        ...  \n",
      "724292       0  \n",
      "724293       0  \n",
      "724294       1  \n",
      "724295       0  \n",
      "724296       1  \n",
      "\n",
      "[724297 rows x 23 columns]\n"
     ]
    }
   ],
   "source": [
    "df = pd.read_csv(output_file_path)\n",
    "print(df)"
   ]
  },
  {
   "cell_type": "code",
   "execution_count": 6,
   "id": "0591d91a-b882-44e1-b63d-81f1ced92b01",
   "metadata": {
    "tags": []
   },
   "outputs": [
    {
     "name": "stdout",
     "output_type": "stream",
     "text": [
      "R-squared (Accuracy): 0.2568181047807989\n",
      "Model Training Time: 0.9753751754760742 seconds\n",
      "Prediction Time: 0.03897452354431152 seconds\n"
     ]
    }
   ],
   "source": [
    "import pandas as pd\n",
    "from sklearn.model_selection import train_test_split\n",
    "from sklearn.linear_model import LinearRegression\n",
    "from sklearn.metrics import r2_score\n",
    "import time\n",
    "\n",
    "file_path = r'C:\\Users\\RAGHAV\\Desktop\\transform_4.csv'\n",
    "df = pd.read_csv(file_path)\n",
    "\n",
    "X = df.iloc[:, :22] \n",
    "y = df.iloc[:, 22] \n",
    "\n",
    "X_train, X_test, y_train, y_test = train_test_split(X, y, test_size=0.2, random_state=42)\n",
    "\n",
    "start_time = time.time()\n",
    "\n",
    "linear_model = LinearRegression()\n",
    "linear_model.fit(X_train, y_train)\n",
    "\n",
    "training_time = time.time() - start_time\n",
    "\n",
    "start_time = time.time()\n",
    "\n",
    "y_pred = linear_model.predict(X_test)\n",
    "\n",
    "prediction_time = time.time() - start_time\n",
    "\n",
    "accuracy = r2_score(y_test, y_pred)\n",
    "print(\"R-squared (Accuracy):\", accuracy)\n",
    "print(\"Model Training Time:\", training_time, \"seconds\")\n",
    "print(\"Prediction Time:\", prediction_time, \"seconds\")\n"
   ]
  },
  {
   "cell_type": "code",
   "execution_count": 7,
   "id": "0d642be3-38b0-4dc6-a1cf-89fc8d5700f9",
   "metadata": {
    "tags": []
   },
   "outputs": [
    {
     "name": "stdout",
     "output_type": "stream",
     "text": [
      "Memory usage after model execution: 14.375 MB\n"
     ]
    }
   ],
   "source": [
    "import psutil\n",
    "\n",
    "def get_memory_usage():\n",
    "   process = psutil.Process()\n",
    "   return process.memory_info().rss / (1024 ** 2)  \n",
    "\n",
    "memory_after_execution = get_memory_usage()\n",
    "print(\"Memory usage after model execution:\", memory_after_execution, \"MB\")\n"
   ]
  },
  {
   "cell_type": "code",
   "execution_count": null,
   "id": "ce25683b-0d29-443f-ae9e-a739f54f852d",
   "metadata": {},
   "outputs": [],
   "source": []
  }
 ],
 "metadata": {
  "kernelspec": {
   "display_name": "Python 3 (ipykernel)",
   "language": "python",
   "name": "python3"
  },
  "language_info": {
   "codemirror_mode": {
    "name": "ipython",
    "version": 3
   },
   "file_extension": ".py",
   "mimetype": "text/x-python",
   "name": "python",
   "nbconvert_exporter": "python",
   "pygments_lexer": "ipython3",
   "version": "3.11.4"
  }
 },
 "nbformat": 4,
 "nbformat_minor": 5
}
