{
 "cells": [
  {
   "cell_type": "code",
   "execution_count": null,
   "id": "6090f219-1682-4551-8b6c-1030584f2b77",
   "metadata": {
    "tags": []
   },
   "outputs": [],
   "source": [
    "import pandas as pd\n",
    "from sklearn.model_selection import train_test_split\n",
    "from sklearn.svm import SVR\n",
    "from sklearn.metrics import r2_score\n",
    "from sklearn.preprocessing import StandardScaler\n",
    "import time\n",
    "\n",
    "file_path = r'C:\\Users\\RAGHAV\\Desktop\\transform_4.csv'\n",
    "df = pd.read_csv(file_path)\n",
    "\n",
    "selected_features = df.iloc[:, [17, 12, 19, 0, 2, 13, 3, 1, 18]].copy()\n",
    "target = df.iloc[:, 20].copy()\n",
    "\n",
    "scaler = StandardScaler()\n",
    "selected_features_standardized = scaler.fit_transform(selected_features)\n",
    "\n",
    "X_train, X_test, y_train, y_test = train_test_split(selected_features_standardized, target, test_size=0.2, random_state=42)\n",
    "\n",
    "start_time = time.time()\n",
    "\n",
    "svm_model = SVR()\n",
    "svm_model.fit(X_train, y_train)\n",
    "\n",
    "training_time = time.time() - start_time\n",
    "\n",
    "start_time = time.time()\n",
    "\n",
    "y_pred = svm_model.predict(X_test)\n",
    "\n",
    "prediction_time = time.time() - start_time\n",
    "\n",
    "accuracy = r2_score(y_test, y_pred)\n",
    "print(\"SVM R-squared (Accuracy):\", accuracy)\n",
    "print(\"SVM Model Training Time:\", training_time, \"seconds\")\n",
    "print(\"SVM Prediction Time:\", prediction_time, \"seconds\")\n"
   ]
  },
  {
   "cell_type": "code",
   "execution_count": null,
   "id": "cfb6de80-1851-49fc-8996-fef1f9915513",
   "metadata": {},
   "outputs": [],
   "source": []
  }
 ],
 "metadata": {
  "kernelspec": {
   "display_name": "Python 3 (ipykernel)",
   "language": "python",
   "name": "python3"
  },
  "language_info": {
   "codemirror_mode": {
    "name": "ipython",
    "version": 3
   },
   "file_extension": ".py",
   "mimetype": "text/x-python",
   "name": "python",
   "nbconvert_exporter": "python",
   "pygments_lexer": "ipython3",
   "version": "3.11.4"
  }
 },
 "nbformat": 4,
 "nbformat_minor": 5
}
