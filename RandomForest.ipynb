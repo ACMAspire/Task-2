{
 "cells": [
  {
   "cell_type": "code",
   "execution_count": 2,
   "id": "dd95465b-62a8-4f39-85d8-4c45df6e5ae6",
   "metadata": {
    "tags": []
   },
   "outputs": [
    {
     "name": "stdout",
     "output_type": "stream",
     "text": [
      "Random Forest R-squared (Accuracy): 0.6396012249605816\n",
      "Random Forest Model Training Time: 822.6833972930908 seconds\n",
      "Random Forest Prediction Time: 50.47275257110596 seconds\n"
     ]
    }
   ],
   "source": [
    "import pandas as pd\n",
    "from sklearn.model_selection import train_test_split\n",
    "from sklearn.ensemble import RandomForestRegressor\n",
    "from sklearn.metrics import r2_score\n",
    "from sklearn.preprocessing import StandardScaler\n",
    "import time\n",
    "\n",
    "file_path = r'C:\\Users\\RAGHAV\\Desktop\\transform_4.csv'\n",
    "df = pd.read_csv(file_path)\n",
    "\n",
    "selected_features = df.iloc[:, [17, 12, 19, 0, 2, 13, 3, 1, 18]].copy()\n",
    "target = df.iloc[:, 20].copy()\n",
    "\n",
    "scaler = StandardScaler()\n",
    "selected_features_standardized = scaler.fit_transform(selected_features)\n",
    "\n",
    "X_train, X_test, y_train, y_test = train_test_split(selected_features_standardized, target, test_size=0.2, random_state=42)\n",
    "\n",
    "start_time = time.time()\n",
    "\n",
    "rf_model = RandomForestRegressor(n_estimators=100, n_jobs=-1, random_state=42)\n",
    "rf_model.fit(X_train, y_train)\n",
    "\n",
    "training_time = time.time() - start_time\n",
    "\n",
    "start_time = time.time()\n",
    "\n",
    "y_pred = rf_model.predict(X_test)\n",
    "\n",
    "prediction_time = time.time() - start_time\n",
    "\n",
    "accuracy = r2_score(y_test, y_pred)\n",
    "print(\"Random Forest R-squared (Accuracy):\", accuracy)\n",
    "print(\"Random Forest Model Training Time:\", training_time, \"seconds\")\n",
    "print(\"Random Forest Prediction Time:\", prediction_time, \"seconds\")\n"
   ]
  },
  {
   "cell_type": "code",
   "execution_count": 3,
   "id": "deaeadad-ca84-4e33-b599-43aa87bbb8ac",
   "metadata": {
    "tags": []
   },
   "outputs": [
    {
     "name": "stdout",
     "output_type": "stream",
     "text": [
      "Memory usage after model execution: 16.93359375 MB\n"
     ]
    }
   ],
   "source": [
    "import psutil\n",
    "\n",
    "def get_memory_usage():\n",
    "   process = psutil.Process()\n",
    "   return process.memory_info().rss / (1024 ** 2) \n",
    "\n",
    "memory_after_execution = get_memory_usage()\n",
    "print(\"Memory usage after model execution:\", memory_after_execution, \"MB\")\n"
   ]
  },
  {
   "cell_type": "code",
   "execution_count": null,
   "id": "99d72f00-1c98-45aa-ae8c-0f14370d8612",
   "metadata": {},
   "outputs": [],
   "source": []
  }
 ],
 "metadata": {
  "kernelspec": {
   "display_name": "Python 3 (ipykernel)",
   "language": "python",
   "name": "python3"
  },
  "language_info": {
   "codemirror_mode": {
    "name": "ipython",
    "version": 3
   },
   "file_extension": ".py",
   "mimetype": "text/x-python",
   "name": "python",
   "nbconvert_exporter": "python",
   "pygments_lexer": "ipython3",
   "version": "3.11.4"
  }
 },
 "nbformat": 4,
 "nbformat_minor": 5
}
