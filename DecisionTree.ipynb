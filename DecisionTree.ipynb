{
 "cells": [
  {
   "cell_type": "code",
   "execution_count": 1,
   "id": "b8d78071-a80b-4caa-9689-15eef6638479",
   "metadata": {
    "tags": []
   },
   "outputs": [
    {
     "name": "stdout",
     "output_type": "stream",
     "text": [
      "Info about the new DataFrame:\n",
      "<class 'pandas.core.frame.DataFrame'>\n",
      "RangeIndex: 724297 entries, 0 to 724296\n",
      "Data columns (total 23 columns):\n",
      " #   Column            Non-Null Count   Dtype  \n",
      "---  ------            --------------   -----  \n",
      " 0   sex               724297 non-null  int64  \n",
      " 1   age               724297 non-null  int64  \n",
      " 2   height            724297 non-null  int64  \n",
      " 3   weight            724297 non-null  int64  \n",
      " 4   waistline         724297 non-null  float64\n",
      " 5   sight_left        724297 non-null  float64\n",
      " 6   sight_right       724297 non-null  float64\n",
      " 7   SBP               724297 non-null  int64  \n",
      " 8   DBP               724297 non-null  int64  \n",
      " 9   BLDS              724297 non-null  int64  \n",
      " 10  tot_chole         724297 non-null  int64  \n",
      " 11  HDL_chole         724297 non-null  int64  \n",
      " 12  LDL_chole         724297 non-null  int64  \n",
      " 13  triglyceride      724297 non-null  int64  \n",
      " 14  hemoglobin        724297 non-null  float64\n",
      " 15  serum_creatinine  724297 non-null  float64\n",
      " 16  SGOT_AST          724297 non-null  int64  \n",
      " 17  SGOT_ALT          724297 non-null  int64  \n",
      " 18  gamma_GTP         724297 non-null  int64  \n",
      " 19  SMK_stat_type_cd  724297 non-null  int64  \n",
      " 20  DRK_YN            724297 non-null  int64  \n",
      " 21  ast/alt_ratio     724297 non-null  float64\n",
      " 22  (ast/alt>1.1)     724297 non-null  int64  \n",
      "dtypes: float64(6), int64(17)\n",
      "memory usage: 127.1 MB\n",
      "None\n",
      "\n",
      "First few rows of the new DataFrame:\n",
      "   sex  age  height  weight  waistline  sight_left  sight_right  SBP  DBP  \\\n",
      "0    0   35     170      75       90.0         1.0          1.0  120   80   \n",
      "1    0   30     180      80       89.0         0.9          1.2  130   82   \n",
      "2    0   40     165      75       91.0         1.2          1.5  120   70   \n",
      "3    0   50     175      80       91.0         1.5          1.2  145   87   \n",
      "4    0   50     165      60       80.0         1.0          1.2  138   82   \n",
      "\n",
      "   BLDS  ...  triglyceride  hemoglobin  serum_creatinine  SGOT_AST  SGOT_ALT  \\\n",
      "0    99  ...            92        17.1               1.0        21        35   \n",
      "1   106  ...           121        15.8               0.9        20        36   \n",
      "2    98  ...           104        15.8               0.9        47        32   \n",
      "3    95  ...           106        17.6               1.1        29        34   \n",
      "4   101  ...           104        13.8               0.8        19        12   \n",
      "\n",
      "   gamma_GTP  SMK_stat_type_cd  DRK_YN  ast/alt_ratio  (ast/alt>1.1)  \n",
      "0         40                 1       1       0.600000              0  \n",
      "1         27                 3       0       0.555556              0  \n",
      "2         68                 1       0       1.468750              1  \n",
      "3         18                 1       0       0.852941              0  \n",
      "4         25                 1       0       1.583333              1  \n",
      "\n",
      "[5 rows x 23 columns]\n"
     ]
    }
   ],
   "source": [
    "import pandas as pd\n",
    "\n",
    "new_file_path = r'C:\\Users\\RAGHAV\\Desktop\\transform_3.csv'\n",
    "\n",
    "new_df = pd.read_csv(new_file_path)\n",
    "\n",
    "print(\"Info about the new DataFrame:\")\n",
    "print(new_df.info())\n",
    "\n",
    "print(\"\\nFirst few rows of the new DataFrame:\")\n",
    "print(new_df.head())"
   ]
  },
  {
   "cell_type": "code",
   "execution_count": null,
   "id": "882de2d7-979a-4b80-b963-8dc297e77a88",
   "metadata": {},
   "outputs": [],
   "source": []
  },
  {
   "cell_type": "code",
   "execution_count": 2,
   "id": "9dace623-1498-452f-b570-ddf369b60643",
   "metadata": {
    "tags": []
   },
   "outputs": [
    {
     "name": "stdout",
     "output_type": "stream",
     "text": [
      "Accuracy: 0.6339500207096507\n",
      "Model Training Time: 46.6531548500061 seconds\n",
      "Prediction Time: 0.1838855743408203 seconds\n",
      "Classification Report:\n",
      "              precision    recall  f1-score   support\n",
      "\n",
      "           0       0.64      0.64      0.64     74172\n",
      "           1       0.63      0.62      0.62     70688\n",
      "\n",
      "    accuracy                           0.63    144860\n",
      "   macro avg       0.63      0.63      0.63    144860\n",
      "weighted avg       0.63      0.63      0.63    144860\n",
      "\n"
     ]
    }
   ],
   "source": [
    "import pandas as pd\n",
    "from sklearn.model_selection import train_test_split\n",
    "from sklearn.tree import DecisionTreeClassifier\n",
    "from sklearn.metrics import accuracy_score, classification_report\n",
    "from sklearn.preprocessing import StandardScaler\n",
    "import time\n",
    "\n",
    "file_path = r'C:\\Users\\RAGHAV\\Desktop\\transform_3.csv'\n",
    "df = pd.read_csv(file_path)\n",
    "\n",
    "X = df.iloc[:, [i for i in range(20)] + [21, 22]]\n",
    "y = df.iloc[:, 20]  # Target\n",
    "\n",
    "scaler = StandardScaler()\n",
    "X_scaled = scaler.fit_transform(X)\n",
    "\n",
    "X_train, X_test, y_train, y_test = train_test_split(X_scaled, y, test_size=0.2, random_state=42)\n",
    "\n",
    "start_time = time.time()\n",
    "\n",
    "tree_model = DecisionTreeClassifier(random_state=42)\n",
    "tree_model.fit(X_train, y_train)\n",
    "\n",
    "training_time = time.time() - start_time\n",
    "\n",
    "start_time = time.time()\n",
    "\n",
    "y_pred = tree_model.predict(X_test)\n",
    "\n",
    "prediction_time = time.time() - start_time\n",
    "\n",
    "accuracy = accuracy_score(y_test, y_pred)\n",
    "print(\"Accuracy:\", accuracy)\n",
    "print(\"Model Training Time:\", training_time, \"seconds\")\n",
    "print(\"Prediction Time:\", prediction_time, \"seconds\")\n",
    "\n",
    "print(\"Classification Report:\")\n",
    "print(classification_report(y_test, y_pred))\n",
    "\n"
   ]
  },
  {
   "cell_type": "code",
   "execution_count": 3,
   "id": "a0207ad2-1070-4493-bcc9-70054805d242",
   "metadata": {
    "tags": []
   },
   "outputs": [
    {
     "name": "stdout",
     "output_type": "stream",
     "text": [
      "Memory usage after model execution: 14.5859375 MB\n"
     ]
    }
   ],
   "source": [
    "import psutil\n",
    "\n",
    "def get_memory_usage():\n",
    "   process = psutil.Process()\n",
    "   return process.memory_info().rss / (1024 ** 2) \n",
    "\n",
    "memory_after_execution = get_memory_usage()\n",
    "print(\"Memory usage after model execution:\", memory_after_execution, \"MB\")\n"
   ]
  },
  {
   "cell_type": "code",
   "execution_count": null,
   "id": "6ca2d8f0-eaae-4e9f-9c2e-a42b61847b45",
   "metadata": {},
   "outputs": [],
   "source": []
  }
 ],
 "metadata": {
  "kernelspec": {
   "display_name": "Python 3 (ipykernel)",
   "language": "python",
   "name": "python3"
  },
  "language_info": {
   "codemirror_mode": {
    "name": "ipython",
    "version": 3
   },
   "file_extension": ".py",
   "mimetype": "text/x-python",
   "name": "python",
   "nbconvert_exporter": "python",
   "pygments_lexer": "ipython3",
   "version": "3.11.4"
  }
 },
 "nbformat": 4,
 "nbformat_minor": 5
}
