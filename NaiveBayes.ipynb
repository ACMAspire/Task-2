{
 "cells": [
  {
   "cell_type": "code",
   "execution_count": 1,
   "id": "b8e60340-3c8b-41dd-bae8-4322e06be061",
   "metadata": {
    "tags": []
   },
   "outputs": [
    {
     "name": "stdout",
     "output_type": "stream",
     "text": [
      "Naive Bayes Model Training Time: 1.306166648864746 seconds\n",
      "Memory usage after training: 673.5625 MB\n",
      "Naive Bayes Model Prediction Time: 0.3457789421081543 seconds\n",
      "Memory usage after prediction: 674.68359375 MB\n",
      "Naive Bayes Model Accuracy: 0.6865318238299047\n"
     ]
    }
   ],
   "source": [
    "import pandas as pd\n",
    "import numpy as np\n",
    "from sklearn.model_selection import train_test_split\n",
    "from sklearn.naive_bayes import GaussianNB\n",
    "from sklearn.metrics import accuracy_score\n",
    "from sklearn.preprocessing import StandardScaler\n",
    "import time\n",
    "import psutil\n",
    "\n",
    "\n",
    "file_path = r'C:\\Users\\RAGHAV\\Desktop\\transform_4.csv'\n",
    "df = pd.read_csv(file_path)\n",
    "\n",
    "\n",
    "X = df.iloc[:, 0:22]\n",
    "y = df.iloc[:, 22]\n",
    "\n",
    "\n",
    "scaler = StandardScaler()\n",
    "X_standardized = scaler.fit_transform(X)\n",
    "\n",
    "\n",
    "X_train, X_test, y_train, y_test = train_test_split(X_standardized, y, test_size=0.2, random_state=42)\n",
    "\n",
    "\n",
    "start_time = time.time()\n",
    "\n",
    "\n",
    "nb_model = GaussianNB()\n",
    "nb_model.fit(X_train, y_train)\n",
    "\n",
    "\n",
    "training_time = time.time() - start_time\n",
    "\n",
    "\n",
    "process = psutil.Process()\n",
    "memory_after_training = process.memory_info().rss / (1024 ** 2)  # Memory usage in MB\n",
    "\n",
    "\n",
    "start_time = time.time()\n",
    "\n",
    "\n",
    "y_pred = nb_model.predict(X_test)\n",
    "\n",
    "\n",
    "prediction_time = time.time() - start_time\n",
    "\n",
    "\n",
    "memory_after_prediction = process.memory_info().rss / (1024 ** 2)  # Memory usage in MB\n",
    "\n",
    "\n",
    "accuracy = accuracy_score(y_test, y_pred)\n",
    "\n",
    "\n",
    "print(\"Naive Bayes Model Training Time:\", training_time, \"seconds\")\n",
    "print(\"Memory usage after training:\", memory_after_training, \"MB\")\n",
    "print(\"Naive Bayes Model Prediction Time:\", prediction_time, \"seconds\")\n",
    "print(\"Memory usage after prediction:\", memory_after_prediction, \"MB\")\n",
    "print(\"Naive Bayes Model Accuracy:\", accuracy)\n"
   ]
  },
  {
   "cell_type": "code",
   "execution_count": 2,
   "id": "db4b6c38-b3bb-4328-97b1-6e0a747038c9",
   "metadata": {
    "tags": []
   },
   "outputs": [
    {
     "name": "stdout",
     "output_type": "stream",
     "text": [
      "Memory usage after model execution: 675.3125 MB\n"
     ]
    }
   ],
   "source": [
    "import psutil\n",
    "\n",
    "def get_memory_usage():\n",
    "   process = psutil.Process()\n",
    "   return process.memory_info().rss / (1024 ** 2) \n",
    "\n",
    "memory_after_execution = get_memory_usage()\n",
    "print(\"Memory usage after model execution:\", memory_after_execution, \"MB\")"
   ]
  },
  {
   "cell_type": "code",
   "execution_count": null,
   "id": "2aa005ce-c9d1-4789-8582-814d80d30afd",
   "metadata": {},
   "outputs": [],
   "source": []
  }
 ],
 "metadata": {
  "kernelspec": {
   "display_name": "Python 3 (ipykernel)",
   "language": "python",
   "name": "python3"
  },
  "language_info": {
   "codemirror_mode": {
    "name": "ipython",
    "version": 3
   },
   "file_extension": ".py",
   "mimetype": "text/x-python",
   "name": "python",
   "nbconvert_exporter": "python",
   "pygments_lexer": "ipython3",
   "version": "3.11.4"
  }
 },
 "nbformat": 4,
 "nbformat_minor": 5
}
